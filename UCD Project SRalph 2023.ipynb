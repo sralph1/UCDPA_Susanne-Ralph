{
 "cells": [
  {
   "cell_type": "code",
   "execution_count": 1,
   "id": "473023b6",
   "metadata": {},
   "outputs": [],
   "source": [
    "import pandas as pd\n",
    "import numpy as np\n",
    "import matplotlib.pyplot as plt\n",
    "import seaborn as sns"
   ]
  },
  {
   "cell_type": "code",
   "execution_count": 2,
   "id": "919dba85",
   "metadata": {},
   "outputs": [],
   "source": [
    "#convert to DF, update price and date format\n",
    "houseprices = pd.read_csv('House Prices.csv',thousands=',', parse_dates=True)\n",
    "houseprices['Date'] = pd.to_datetime(houseprices['Date'])\n",
    "houseprices['year'], houseprices['month'] = houseprices['Date'].dt.year, houseprices['Date'].dt.month"
   ]
  },
  {
   "cell_type": "code",
   "execution_count": 3,
   "id": "209b779d",
   "metadata": {},
   "outputs": [
    {
     "data": {
      "text/html": [
       "<div>\n",
       "<style scoped>\n",
       "    .dataframe tbody tr th:only-of-type {\n",
       "        vertical-align: middle;\n",
       "    }\n",
       "\n",
       "    .dataframe tbody tr th {\n",
       "        vertical-align: top;\n",
       "    }\n",
       "\n",
       "    .dataframe thead th {\n",
       "        text-align: right;\n",
       "    }\n",
       "</style>\n",
       "<table border=\"1\" class=\"dataframe\">\n",
       "  <thead>\n",
       "    <tr style=\"text-align: right;\">\n",
       "      <th></th>\n",
       "      <th>Date</th>\n",
       "      <th>Price</th>\n",
       "      <th>Address</th>\n",
       "      <th>County</th>\n",
       "      <th>Province</th>\n",
       "      <th>year</th>\n",
       "      <th>month</th>\n",
       "    </tr>\n",
       "  </thead>\n",
       "  <tbody>\n",
       "    <tr>\n",
       "      <th>0</th>\n",
       "      <td>2018-02-01</td>\n",
       "      <td>115000.0</td>\n",
       "      <td>239 BLARNEY ST, CORK, CORK</td>\n",
       "      <td>Cork</td>\n",
       "      <td>Munster</td>\n",
       "      <td>2018</td>\n",
       "      <td>2</td>\n",
       "    </tr>\n",
       "    <tr>\n",
       "      <th>1</th>\n",
       "      <td>2018-02-01</td>\n",
       "      <td>361233.0</td>\n",
       "      <td>3 CCOLROE COURT, BALLINCOLLIG</td>\n",
       "      <td>Cork</td>\n",
       "      <td>Munster</td>\n",
       "      <td>2018</td>\n",
       "      <td>2</td>\n",
       "    </tr>\n",
       "    <tr>\n",
       "      <th>2</th>\n",
       "      <td>2018-02-01</td>\n",
       "      <td>365000.0</td>\n",
       "      <td>38 THE CRESCENT, CASTLE ROCK, BANESHANE</td>\n",
       "      <td>Cork</td>\n",
       "      <td>Munster</td>\n",
       "      <td>2018</td>\n",
       "      <td>2</td>\n",
       "    </tr>\n",
       "    <tr>\n",
       "      <th>3</th>\n",
       "      <td>2018-02-01</td>\n",
       "      <td>230000.0</td>\n",
       "      <td>4 LIOS NA GREINE, SOUTH DOUGLAS RD, CORK</td>\n",
       "      <td>Cork</td>\n",
       "      <td>Munster</td>\n",
       "      <td>2018</td>\n",
       "      <td>2</td>\n",
       "    </tr>\n",
       "    <tr>\n",
       "      <th>4</th>\n",
       "      <td>2018-02-01</td>\n",
       "      <td>228000.0</td>\n",
       "      <td>NO 6 THE COURTYARD, FOTA ISLAND, CARRIGETWOHIL</td>\n",
       "      <td>Cork</td>\n",
       "      <td>Munster</td>\n",
       "      <td>2018</td>\n",
       "      <td>2</td>\n",
       "    </tr>\n",
       "  </tbody>\n",
       "</table>\n",
       "</div>"
      ],
      "text/plain": [
       "        Date     Price                                         Address County  \\\n",
       "0 2018-02-01  115000.0                      239 BLARNEY ST, CORK, CORK   Cork   \n",
       "1 2018-02-01  361233.0                   3 CCOLROE COURT, BALLINCOLLIG   Cork   \n",
       "2 2018-02-01  365000.0         38 THE CRESCENT, CASTLE ROCK, BANESHANE   Cork   \n",
       "3 2018-02-01  230000.0        4 LIOS NA GREINE, SOUTH DOUGLAS RD, CORK   Cork   \n",
       "4 2018-02-01  228000.0  NO 6 THE COURTYARD, FOTA ISLAND, CARRIGETWOHIL   Cork   \n",
       "\n",
       "  Province  year  month  \n",
       "0  Munster  2018      2  \n",
       "1  Munster  2018      2  \n",
       "2  Munster  2018      2  \n",
       "3  Munster  2018      2  \n",
       "4  Munster  2018      2  "
      ]
     },
     "execution_count": 3,
     "metadata": {},
     "output_type": "execute_result"
    }
   ],
   "source": [
    "houseprices.head()"
   ]
  },
  {
   "cell_type": "code",
   "execution_count": 4,
   "id": "ebb887e6",
   "metadata": {},
   "outputs": [
    {
     "name": "stdout",
     "output_type": "stream",
     "text": [
      "<class 'pandas.core.frame.DataFrame'>\n",
      "RangeIndex: 165054 entries, 0 to 165053\n",
      "Data columns (total 7 columns):\n",
      " #   Column    Non-Null Count   Dtype         \n",
      "---  ------    --------------   -----         \n",
      " 0   Date      165054 non-null  datetime64[ns]\n",
      " 1   Price     165054 non-null  float64       \n",
      " 2   Address   165054 non-null  object        \n",
      " 3   County    165054 non-null  object        \n",
      " 4   Province  165054 non-null  object        \n",
      " 5   year      165054 non-null  int64         \n",
      " 6   month     165054 non-null  int64         \n",
      "dtypes: datetime64[ns](1), float64(1), int64(2), object(3)\n",
      "memory usage: 8.8+ MB\n"
     ]
    }
   ],
   "source": [
    "houseprices.info()"
   ]
  },
  {
   "cell_type": "code",
   "execution_count": 5,
   "id": "24817270",
   "metadata": {},
   "outputs": [
    {
     "name": "stdout",
     "output_type": "stream",
     "text": [
      "<class 'pandas.core.frame.DataFrame'>\n",
      "RangeIndex: 165054 entries, 0 to 165053\n",
      "Data columns (total 7 columns):\n",
      " #   Column    Non-Null Count   Dtype         \n",
      "---  ------    --------------   -----         \n",
      " 0   Date      165054 non-null  datetime64[ns]\n",
      " 1   Price     165054 non-null  float64       \n",
      " 2   Address   165054 non-null  string        \n",
      " 3   County    165054 non-null  string        \n",
      " 4   Province  165054 non-null  string        \n",
      " 5   year      165054 non-null  int64         \n",
      " 6   month     165054 non-null  int64         \n",
      "dtypes: datetime64[ns](1), float64(1), int64(2), string(3)\n",
      "memory usage: 8.8 MB\n"
     ]
    }
   ],
   "source": [
    "#convert to string\n",
    "houseprices['County']=houseprices['County'].astype('string')\n",
    "houseprices['Province']=houseprices['Province'].astype('string')\n",
    "houseprices['Address']=houseprices['Address'].astype('string')\n",
    "houseprices.info()"
   ]
  },
  {
   "cell_type": "code",
   "execution_count": 6,
   "id": "cc824ba6",
   "metadata": {},
   "outputs": [
    {
     "data": {
      "text/plain": [
       "(165054, 7)"
      ]
     },
     "execution_count": 6,
     "metadata": {},
     "output_type": "execute_result"
    }
   ],
   "source": [
    "#rows and columns\n",
    "houseprices.shape"
   ]
  },
  {
   "cell_type": "code",
   "execution_count": 7,
   "id": "0081b5eb",
   "metadata": {},
   "outputs": [
    {
     "data": {
      "text/html": [
       "<div>\n",
       "<style scoped>\n",
       "    .dataframe tbody tr th:only-of-type {\n",
       "        vertical-align: middle;\n",
       "    }\n",
       "\n",
       "    .dataframe tbody tr th {\n",
       "        vertical-align: top;\n",
       "    }\n",
       "\n",
       "    .dataframe thead th {\n",
       "        text-align: right;\n",
       "    }\n",
       "</style>\n",
       "<table border=\"1\" class=\"dataframe\">\n",
       "  <thead>\n",
       "    <tr style=\"text-align: right;\">\n",
       "      <th></th>\n",
       "      <th>Date</th>\n",
       "      <th>Price</th>\n",
       "      <th>Address</th>\n",
       "      <th>County</th>\n",
       "      <th>Province</th>\n",
       "      <th>year</th>\n",
       "      <th>month</th>\n",
       "    </tr>\n",
       "  </thead>\n",
       "  <tbody>\n",
       "    <tr>\n",
       "      <th>0</th>\n",
       "      <td>2018-02-01</td>\n",
       "      <td>115000.0</td>\n",
       "      <td>239 BLARNEY ST, CORK, CORK</td>\n",
       "      <td>Cork</td>\n",
       "      <td>Munster</td>\n",
       "      <td>2018</td>\n",
       "      <td>2</td>\n",
       "    </tr>\n",
       "    <tr>\n",
       "      <th>1</th>\n",
       "      <td>2018-02-01</td>\n",
       "      <td>361233.0</td>\n",
       "      <td>3 CCOLROE COURT, BALLINCOLLIG</td>\n",
       "      <td>Cork</td>\n",
       "      <td>Munster</td>\n",
       "      <td>2018</td>\n",
       "      <td>2</td>\n",
       "    </tr>\n",
       "    <tr>\n",
       "      <th>2</th>\n",
       "      <td>2018-02-01</td>\n",
       "      <td>365000.0</td>\n",
       "      <td>38 THE CRESCENT, CASTLE ROCK, BANESHANE</td>\n",
       "      <td>Cork</td>\n",
       "      <td>Munster</td>\n",
       "      <td>2018</td>\n",
       "      <td>2</td>\n",
       "    </tr>\n",
       "    <tr>\n",
       "      <th>3</th>\n",
       "      <td>2018-02-01</td>\n",
       "      <td>230000.0</td>\n",
       "      <td>4 LIOS NA GREINE, SOUTH DOUGLAS RD, CORK</td>\n",
       "      <td>Cork</td>\n",
       "      <td>Munster</td>\n",
       "      <td>2018</td>\n",
       "      <td>2</td>\n",
       "    </tr>\n",
       "    <tr>\n",
       "      <th>4</th>\n",
       "      <td>2018-02-01</td>\n",
       "      <td>228000.0</td>\n",
       "      <td>NO 6 THE COURTYARD, FOTA ISLAND, CARRIGETWOHIL</td>\n",
       "      <td>Cork</td>\n",
       "      <td>Munster</td>\n",
       "      <td>2018</td>\n",
       "      <td>2</td>\n",
       "    </tr>\n",
       "    <tr>\n",
       "      <th>...</th>\n",
       "      <td>...</td>\n",
       "      <td>...</td>\n",
       "      <td>...</td>\n",
       "      <td>...</td>\n",
       "      <td>...</td>\n",
       "      <td>...</td>\n",
       "      <td>...</td>\n",
       "    </tr>\n",
       "    <tr>\n",
       "      <th>165048</th>\n",
       "      <td>2020-12-31</td>\n",
       "      <td>1200000.0</td>\n",
       "      <td>APT 9, THE FOUR SEASONS HOTEL, BALLSBRIDGE, Du...</td>\n",
       "      <td>Dublin</td>\n",
       "      <td>Leinster</td>\n",
       "      <td>2020</td>\n",
       "      <td>12</td>\n",
       "    </tr>\n",
       "    <tr>\n",
       "      <th>165049</th>\n",
       "      <td>2020-12-31</td>\n",
       "      <td>145000.0</td>\n",
       "      <td>25 TOWER VIEW, BALLINROBE, MAYO</td>\n",
       "      <td>Mayo</td>\n",
       "      <td>Connacht</td>\n",
       "      <td>2020</td>\n",
       "      <td>12</td>\n",
       "    </tr>\n",
       "    <tr>\n",
       "      <th>165051</th>\n",
       "      <td>2020-12-31</td>\n",
       "      <td>30000.0</td>\n",
       "      <td>OAKVALE HOUSE, APT, BARRACK ST</td>\n",
       "      <td>Roscommon</td>\n",
       "      <td>Connacht</td>\n",
       "      <td>2020</td>\n",
       "      <td>12</td>\n",
       "    </tr>\n",
       "    <tr>\n",
       "      <th>165052</th>\n",
       "      <td>2020-12-31</td>\n",
       "      <td>120000.0</td>\n",
       "      <td>21 MARLFIELD, ENNISCORTHY, CO WEXFORD</td>\n",
       "      <td>Wexford</td>\n",
       "      <td>Leinster</td>\n",
       "      <td>2020</td>\n",
       "      <td>12</td>\n",
       "    </tr>\n",
       "    <tr>\n",
       "      <th>165053</th>\n",
       "      <td>2020-12-31</td>\n",
       "      <td>497500.0</td>\n",
       "      <td>PIPPIN, WYNDHAM AVENUE, BRAY</td>\n",
       "      <td>Wicklow</td>\n",
       "      <td>Leinster</td>\n",
       "      <td>2020</td>\n",
       "      <td>12</td>\n",
       "    </tr>\n",
       "  </tbody>\n",
       "</table>\n",
       "<p>163238 rows × 7 columns</p>\n",
       "</div>"
      ],
      "text/plain": [
       "             Date      Price  \\\n",
       "0      2018-02-01   115000.0   \n",
       "1      2018-02-01   361233.0   \n",
       "2      2018-02-01   365000.0   \n",
       "3      2018-02-01   230000.0   \n",
       "4      2018-02-01   228000.0   \n",
       "...           ...        ...   \n",
       "165048 2020-12-31  1200000.0   \n",
       "165049 2020-12-31   145000.0   \n",
       "165051 2020-12-31    30000.0   \n",
       "165052 2020-12-31   120000.0   \n",
       "165053 2020-12-31   497500.0   \n",
       "\n",
       "                                                  Address     County  \\\n",
       "0                              239 BLARNEY ST, CORK, CORK       Cork   \n",
       "1                           3 CCOLROE COURT, BALLINCOLLIG       Cork   \n",
       "2                 38 THE CRESCENT, CASTLE ROCK, BANESHANE       Cork   \n",
       "3                4 LIOS NA GREINE, SOUTH DOUGLAS RD, CORK       Cork   \n",
       "4          NO 6 THE COURTYARD, FOTA ISLAND, CARRIGETWOHIL       Cork   \n",
       "...                                                   ...        ...   \n",
       "165048  APT 9, THE FOUR SEASONS HOTEL, BALLSBRIDGE, Du...     Dublin   \n",
       "165049                    25 TOWER VIEW, BALLINROBE, MAYO       Mayo   \n",
       "165051                     OAKVALE HOUSE, APT, BARRACK ST  Roscommon   \n",
       "165052              21 MARLFIELD, ENNISCORTHY, CO WEXFORD    Wexford   \n",
       "165053                       PIPPIN, WYNDHAM AVENUE, BRAY    Wicklow   \n",
       "\n",
       "        Province  year  month  \n",
       "0        Munster  2018      2  \n",
       "1        Munster  2018      2  \n",
       "2        Munster  2018      2  \n",
       "3        Munster  2018      2  \n",
       "4        Munster  2018      2  \n",
       "...          ...   ...    ...  \n",
       "165048  Leinster  2020     12  \n",
       "165049  Connacht  2020     12  \n",
       "165051  Connacht  2020     12  \n",
       "165052  Leinster  2020     12  \n",
       "165053  Leinster  2020     12  \n",
       "\n",
       "[163238 rows x 7 columns]"
      ]
     },
     "execution_count": 7,
     "metadata": {},
     "output_type": "execute_result"
    }
   ],
   "source": [
    "#drop duplicates\n",
    "houseprices.drop_duplicates(subset=[\"Address\",\"year\"])"
   ]
  },
  {
   "cell_type": "code",
   "execution_count": 12,
   "id": "4c274042",
   "metadata": {},
   "outputs": [
    {
     "data": {
      "text/html": [
       "<div>\n",
       "<style scoped>\n",
       "    .dataframe tbody tr th:only-of-type {\n",
       "        vertical-align: middle;\n",
       "    }\n",
       "\n",
       "    .dataframe tbody tr th {\n",
       "        vertical-align: top;\n",
       "    }\n",
       "\n",
       "    .dataframe thead th {\n",
       "        text-align: right;\n",
       "    }\n",
       "</style>\n",
       "<table border=\"1\" class=\"dataframe\">\n",
       "  <thead>\n",
       "    <tr style=\"text-align: right;\">\n",
       "      <th>year</th>\n",
       "      <th>2018</th>\n",
       "      <th>2019</th>\n",
       "      <th>2020</th>\n",
       "      <th>All</th>\n",
       "    </tr>\n",
       "    <tr>\n",
       "      <th>Province</th>\n",
       "      <th></th>\n",
       "      <th></th>\n",
       "      <th></th>\n",
       "      <th></th>\n",
       "    </tr>\n",
       "  </thead>\n",
       "  <tbody>\n",
       "    <tr>\n",
       "      <th>Connacht</th>\n",
       "      <td>176060.0</td>\n",
       "      <td>184820.0</td>\n",
       "      <td>185846.0</td>\n",
       "      <td>182072.0</td>\n",
       "    </tr>\n",
       "    <tr>\n",
       "      <th>Leinster</th>\n",
       "      <td>361411.0</td>\n",
       "      <td>378744.0</td>\n",
       "      <td>388714.0</td>\n",
       "      <td>375614.0</td>\n",
       "    </tr>\n",
       "    <tr>\n",
       "      <th>Munster</th>\n",
       "      <td>218146.0</td>\n",
       "      <td>220075.0</td>\n",
       "      <td>227010.0</td>\n",
       "      <td>221503.0</td>\n",
       "    </tr>\n",
       "    <tr>\n",
       "      <th>Ulster</th>\n",
       "      <td>127168.0</td>\n",
       "      <td>135875.0</td>\n",
       "      <td>150565.0</td>\n",
       "      <td>137352.0</td>\n",
       "    </tr>\n",
       "    <tr>\n",
       "      <th>All</th>\n",
       "      <td>294029.0</td>\n",
       "      <td>306935.0</td>\n",
       "      <td>312678.0</td>\n",
       "      <td>304154.0</td>\n",
       "    </tr>\n",
       "  </tbody>\n",
       "</table>\n",
       "</div>"
      ],
      "text/plain": [
       "year          2018      2019      2020       All\n",
       "Province                                        \n",
       "Connacht  176060.0  184820.0  185846.0  182072.0\n",
       "Leinster  361411.0  378744.0  388714.0  375614.0\n",
       "Munster   218146.0  220075.0  227010.0  221503.0\n",
       "Ulster    127168.0  135875.0  150565.0  137352.0\n",
       "All       294029.0  306935.0  312678.0  304154.0"
      ]
     },
     "execution_count": 12,
     "metadata": {},
     "output_type": "execute_result"
    }
   ],
   "source": [
    "#pivot on multiple variables and mean across years\n",
    "houseprices.pivot_table(values=\"Price\", index=\"Province\", columns=\"year\", \n",
    "                        fill_value=0, margins=True).round()"
   ]
  },
  {
   "cell_type": "code",
   "execution_count": 13,
   "id": "aa1f403b",
   "metadata": {},
   "outputs": [
    {
     "data": {
      "text/plain": [
       "0         115000.0\n",
       "1         361233.0\n",
       "2         365000.0\n",
       "3         230000.0\n",
       "4         228000.0\n",
       "            ...   \n",
       "165049    145000.0\n",
       "165050    367000.0\n",
       "165051     30000.0\n",
       "165052    120000.0\n",
       "165053    497500.0\n",
       "Name: Price, Length: 165054, dtype: float64"
      ]
     },
     "execution_count": 13,
     "metadata": {},
     "output_type": "execute_result"
    }
   ],
   "source": [
    "houseprices[\"Price\"].round()"
   ]
  },
  {
   "cell_type": "code",
   "execution_count": 14,
   "id": "0540c1d4",
   "metadata": {},
   "outputs": [],
   "source": [
    "import matplotlib.ticker as ticker"
   ]
  },
  {
   "cell_type": "code",
   "execution_count": 15,
   "id": "7d0cbedd",
   "metadata": {},
   "outputs": [
    {
     "data": {
      "image/png": "[encoded data removed]",
      "text/plain": [
       "<Figure size 432x288 with 1 Axes>"
      ]
     },
     "metadata": {
      "needs_background": "light"
     },
     "output_type": "display_data"
    }
   ],
   "source": [
    "sns.scatterplot(x=\"year\", \n",
    "                y=\"Price\",\n",
    "                data=houseprices,\n",
    "                hue=\"Province\",\n",
    "                hue_order=[\"Ulster\",\"Munster\",\"Leinster\",\"Connacht\"])\n",
    "plt.gca().yaxis.set_major_formatter(ticker.StrMethodFormatter('{x:,.0f}'))"
   ]
  },
  {
   "cell_type": "code",
   "execution_count": 86,
   "id": "59a9f917",
   "metadata": {},
   "outputs": [
    {
     "data": {
      "text/plain": [
       "<seaborn.axisgrid.FacetGrid at 0x162c4e17a00>"
      ]
     },
     "execution_count": 86,
     "metadata": {},
     "output_type": "execute_result"
    },
    {
     "data": {
      "image/png": "[encoded data removed]",
      "text/plain": [
       "<Figure size 360x360 with 1 Axes>"
      ]
     },
     "metadata": {
      "needs_background": "light"
     },
     "output_type": "display_data"
    }
   ],
   "source": [
    "sns.catplot(x=\"Province\",data=houseprices,kind=\"count\").set(title=\"Number of Houses Sold 2018-2020 by Province\")"
   ]
  },
  {
   "cell_type": "code",
   "execution_count": 90,
   "id": "7212d624",
   "metadata": {},
   "outputs": [
    {
     "data": {
      "text/plain": [
       "<seaborn.axisgrid.FacetGrid at 0x162c1b5d3d0>"
      ]
     },
     "execution_count": 90,
     "metadata": {},
     "output_type": "execute_result"
    },
    {
     "data": {
      "image/png": "[encoded data removed]",
      "text/plain": [
       "<Figure size 1163.5x360 with 1 Axes>"
      ]
     },
     "metadata": {
      "needs_background": "light"
     },
     "output_type": "display_data"
    }
   ],
   "source": [
    "sns.relplot(x= \"year\",y=\"Price\", \n",
    "            data=houseprices,\n",
    "            kind=\"line\",\n",
    "            style=\"Province\",\n",
    "            hue=\"Province\",\n",
    "            markers=True, \n",
    "            ci=None,\n",
    "            height=5, aspect=3).set(title=\"Sale Price 2018 - 2020\")"
   ]
  },
  {
   "cell_type": "code",
   "execution_count": 89,
   "id": "bed4a8c9",
   "metadata": {},
   "outputs": [],
   "source": [
    "#convert to DF, update price and date format\n",
    "houseprices2021 = pd.read_csv('PPR-2021-2.csv',thousands=',', parse_dates=True)\n",
    "houseprices2021['Date'] = pd.to_datetime(houseprices2021['Date'])\n",
    "houseprices2021['year'], houseprices2021['month'] = houseprices2021['Date'].dt.year, houseprices2021['Date'].dt.month"
   ]
  },
  {
   "cell_type": "code",
   "execution_count": 26,
   "id": "239b5b81",
   "metadata": {},
   "outputs": [],
   "source": [
    "#convert to DF, update price and date format\n",
    "houseprices2022 = pd.read_csv('PPR-2022-2.csv',thousands=',', parse_dates=True)\n",
    "houseprices2022['Date'] = pd.to_datetime(houseprices2022['Date'])\n",
    "houseprices2022['year'], houseprices2022['month'] = houseprices2022['Date'].dt.year, houseprices2022['Date'].dt.month"
   ]
  },
  {
   "cell_type": "code",
   "execution_count": 27,
   "id": "f69fd03c",
   "metadata": {},
   "outputs": [
    {
     "data": {
      "text/html": [
       "<div>\n",
       "<style scoped>\n",
       "    .dataframe tbody tr th:only-of-type {\n",
       "        vertical-align: middle;\n",
       "    }\n",
       "\n",
       "    .dataframe tbody tr th {\n",
       "        vertical-align: top;\n",
       "    }\n",
       "\n",
       "    .dataframe thead th {\n",
       "        text-align: right;\n",
       "    }\n",
       "</style>\n",
       "<table border=\"1\" class=\"dataframe\">\n",
       "  <thead>\n",
       "    <tr style=\"text-align: right;\">\n",
       "      <th></th>\n",
       "      <th>Date</th>\n",
       "      <th>Address</th>\n",
       "      <th>County</th>\n",
       "      <th>Price</th>\n",
       "      <th>Province</th>\n",
       "      <th>year</th>\n",
       "      <th>month</th>\n",
       "    </tr>\n",
       "  </thead>\n",
       "  <tbody>\n",
       "    <tr>\n",
       "      <th>0</th>\n",
       "      <td>2021-01-01</td>\n",
       "      <td>APT 15, SANDON COVE, CASTLE AVE DUBLIN 3</td>\n",
       "      <td>Dublin</td>\n",
       "      <td>295000</td>\n",
       "      <td>Leinster</td>\n",
       "      <td>2021</td>\n",
       "      <td>1</td>\n",
       "    </tr>\n",
       "    <tr>\n",
       "      <th>1</th>\n",
       "      <td>2021-01-01</td>\n",
       "      <td>APT 32, DANES COURT, CLONTARF RD DUBLIN 3</td>\n",
       "      <td>Dublin</td>\n",
       "      <td>310000</td>\n",
       "      <td>Leinster</td>\n",
       "      <td>2021</td>\n",
       "      <td>1</td>\n",
       "    </tr>\n",
       "    <tr>\n",
       "      <th>2</th>\n",
       "      <td>2021-03-01</td>\n",
       "      <td>16 BURLEIGH COURT, BURLINGTON ROAD, DUBLIN 4</td>\n",
       "      <td>Dublin</td>\n",
       "      <td>450000</td>\n",
       "      <td>Leinster</td>\n",
       "      <td>2021</td>\n",
       "      <td>3</td>\n",
       "    </tr>\n",
       "    <tr>\n",
       "      <th>3</th>\n",
       "      <td>2021-04-01</td>\n",
       "      <td>1 CASTLEGAL CROSS, CLIFFONEY, CO. SLIGO</td>\n",
       "      <td>Sligo</td>\n",
       "      <td>148000</td>\n",
       "      <td>Connacht</td>\n",
       "      <td>2021</td>\n",
       "      <td>4</td>\n",
       "    </tr>\n",
       "    <tr>\n",
       "      <th>4</th>\n",
       "      <td>2021-04-01</td>\n",
       "      <td>1 PLAZA  VIEW, FAIR GREEN, MALLOW</td>\n",
       "      <td>Cork</td>\n",
       "      <td>158590</td>\n",
       "      <td>Munster</td>\n",
       "      <td>2021</td>\n",
       "      <td>4</td>\n",
       "    </tr>\n",
       "    <tr>\n",
       "      <th>...</th>\n",
       "      <td>...</td>\n",
       "      <td>...</td>\n",
       "      <td>...</td>\n",
       "      <td>...</td>\n",
       "      <td>...</td>\n",
       "      <td>...</td>\n",
       "      <td>...</td>\n",
       "    </tr>\n",
       "    <tr>\n",
       "      <th>59438</th>\n",
       "      <td>2021-12-31</td>\n",
       "      <td>APT 7 IVY COURT, BLOCK B IVY COURT COMPLEX, HA...</td>\n",
       "      <td>Dublin</td>\n",
       "      <td>850000</td>\n",
       "      <td>Leinster</td>\n",
       "      <td>2021</td>\n",
       "      <td>12</td>\n",
       "    </tr>\n",
       "    <tr>\n",
       "      <th>59439</th>\n",
       "      <td>2021-12-31</td>\n",
       "      <td>DERREENSILLAGH, CASTLECOVE, KILLARNEY</td>\n",
       "      <td>Kerry</td>\n",
       "      <td>100000</td>\n",
       "      <td>Munster</td>\n",
       "      <td>2021</td>\n",
       "      <td>12</td>\n",
       "    </tr>\n",
       "    <tr>\n",
       "      <th>59440</th>\n",
       "      <td>2021-12-31</td>\n",
       "      <td>LIOS NA GCRANN MEWS, GARDINERS HILL, CORK</td>\n",
       "      <td>Cork</td>\n",
       "      <td>275000</td>\n",
       "      <td>Munster</td>\n",
       "      <td>2021</td>\n",
       "      <td>12</td>\n",
       "    </tr>\n",
       "    <tr>\n",
       "      <th>59441</th>\n",
       "      <td>2021-12-31</td>\n",
       "      <td>MOUNT JUBILEE, BANGOR ERRIS, BALLINA</td>\n",
       "      <td>Mayo</td>\n",
       "      <td>115000</td>\n",
       "      <td>Connacht</td>\n",
       "      <td>2021</td>\n",
       "      <td>12</td>\n",
       "    </tr>\n",
       "    <tr>\n",
       "      <th>59442</th>\n",
       "      <td>2021-12-31</td>\n",
       "      <td>OAKLEA, ROCKY VALLEY DR, KILMACANOGUE</td>\n",
       "      <td>Wicklow</td>\n",
       "      <td>800000</td>\n",
       "      <td>Leinster</td>\n",
       "      <td>2021</td>\n",
       "      <td>12</td>\n",
       "    </tr>\n",
       "  </tbody>\n",
       "</table>\n",
       "<p>59443 rows × 7 columns</p>\n",
       "</div>"
      ],
      "text/plain": [
       "            Date                                            Address   County  \\\n",
       "0     2021-01-01           APT 15, SANDON COVE, CASTLE AVE DUBLIN 3   Dublin   \n",
       "1     2021-01-01          APT 32, DANES COURT, CLONTARF RD DUBLIN 3   Dublin   \n",
       "2     2021-03-01       16 BURLEIGH COURT, BURLINGTON ROAD, DUBLIN 4   Dublin   \n",
       "3     2021-04-01            1 CASTLEGAL CROSS, CLIFFONEY, CO. SLIGO    Sligo   \n",
       "4     2021-04-01                  1 PLAZA  VIEW, FAIR GREEN, MALLOW     Cork   \n",
       "...          ...                                                ...      ...   \n",
       "59438 2021-12-31  APT 7 IVY COURT, BLOCK B IVY COURT COMPLEX, HA...   Dublin   \n",
       "59439 2021-12-31              DERREENSILLAGH, CASTLECOVE, KILLARNEY    Kerry   \n",
       "59440 2021-12-31          LIOS NA GCRANN MEWS, GARDINERS HILL, CORK     Cork   \n",
       "59441 2021-12-31               MOUNT JUBILEE, BANGOR ERRIS, BALLINA     Mayo   \n",
       "59442 2021-12-31              OAKLEA, ROCKY VALLEY DR, KILMACANOGUE  Wicklow   \n",
       "\n",
       "        Price  Province  year  month  \n",
       "0      295000  Leinster  2021      1  \n",
       "1      310000  Leinster  2021      1  \n",
       "2      450000  Leinster  2021      3  \n",
       "3      148000  Connacht  2021      4  \n",
       "4      158590   Munster  2021      4  \n",
       "...       ...       ...   ...    ...  \n",
       "59438  850000  Leinster  2021     12  \n",
       "59439  100000   Munster  2021     12  \n",
       "59440  275000   Munster  2021     12  \n",
       "59441  115000  Connacht  2021     12  \n",
       "59442  800000  Leinster  2021     12  \n",
       "\n",
       "[59443 rows x 7 columns]"
      ]
     },
     "metadata": {},
     "output_type": "display_data"
    },
    {
     "data": {
      "text/html": [
       "<div>\n",
       "<style scoped>\n",
       "    .dataframe tbody tr th:only-of-type {\n",
       "        vertical-align: middle;\n",
       "    }\n",
       "\n",
       "    .dataframe tbody tr th {\n",
       "        vertical-align: top;\n",
       "    }\n",
       "\n",
       "    .dataframe thead th {\n",
       "        text-align: right;\n",
       "    }\n",
       "</style>\n",
       "<table border=\"1\" class=\"dataframe\">\n",
       "  <thead>\n",
       "    <tr style=\"text-align: right;\">\n",
       "      <th></th>\n",
       "      <th>Date</th>\n",
       "      <th>Address</th>\n",
       "      <th>County</th>\n",
       "      <th>Price</th>\n",
       "      <th>Province</th>\n",
       "      <th>year</th>\n",
       "      <th>month</th>\n",
       "    </tr>\n",
       "  </thead>\n",
       "  <tbody>\n",
       "    <tr>\n",
       "      <th>0</th>\n",
       "      <td>2022-01-01</td>\n",
       "      <td>8 CHANDLERS GUILD, JAMESS ST, DUBLIN 8</td>\n",
       "      <td>Dublin</td>\n",
       "      <td>95000</td>\n",
       "      <td>Leinster</td>\n",
       "      <td>2022</td>\n",
       "      <td>1</td>\n",
       "    </tr>\n",
       "    <tr>\n",
       "      <th>1</th>\n",
       "      <td>2022-03-01</td>\n",
       "      <td>RIVERDALE, RAHARNEY, CO. WESTMEATH</td>\n",
       "      <td>Westmeath</td>\n",
       "      <td>75000</td>\n",
       "      <td>Leinster</td>\n",
       "      <td>2022</td>\n",
       "      <td>3</td>\n",
       "    </tr>\n",
       "    <tr>\n",
       "      <th>2</th>\n",
       "      <td>2022-04-01</td>\n",
       "      <td>1 BARRETTS LANE, ENNIS, CO CLARE</td>\n",
       "      <td>Clare</td>\n",
       "      <td>105000</td>\n",
       "      <td>Munster</td>\n",
       "      <td>2022</td>\n",
       "      <td>4</td>\n",
       "    </tr>\n",
       "    <tr>\n",
       "      <th>3</th>\n",
       "      <td>2022-04-01</td>\n",
       "      <td>1 DELANEY MEWS, UPPER DUBLIN HILL, CORK</td>\n",
       "      <td>Cork</td>\n",
       "      <td>800000</td>\n",
       "      <td>Munster</td>\n",
       "      <td>2022</td>\n",
       "      <td>4</td>\n",
       "    </tr>\n",
       "    <tr>\n",
       "      <th>4</th>\n",
       "      <td>2022-04-01</td>\n",
       "      <td>104 ARDKEEN, CAVAN</td>\n",
       "      <td>Cavan</td>\n",
       "      <td>120000</td>\n",
       "      <td>Ulster</td>\n",
       "      <td>2022</td>\n",
       "      <td>4</td>\n",
       "    </tr>\n",
       "    <tr>\n",
       "      <th>...</th>\n",
       "      <td>...</td>\n",
       "      <td>...</td>\n",
       "      <td>...</td>\n",
       "      <td>...</td>\n",
       "      <td>...</td>\n",
       "      <td>...</td>\n",
       "      <td>...</td>\n",
       "    </tr>\n",
       "    <tr>\n",
       "      <th>62303</th>\n",
       "      <td>2022-12-30</td>\n",
       "      <td>PEPPARDS LANE, RATHKEALE, CO. LIMERICK</td>\n",
       "      <td>Limerick</td>\n",
       "      <td>30000</td>\n",
       "      <td>Munster</td>\n",
       "      <td>2022</td>\n",
       "      <td>12</td>\n",
       "    </tr>\n",
       "    <tr>\n",
       "      <th>62304</th>\n",
       "      <td>2022-12-31</td>\n",
       "      <td>29 Castle Park, Killycard, Castleblayney</td>\n",
       "      <td>Monaghan</td>\n",
       "      <td>233480</td>\n",
       "      <td>Ulster</td>\n",
       "      <td>2022</td>\n",
       "      <td>12</td>\n",
       "    </tr>\n",
       "    <tr>\n",
       "      <th>62305</th>\n",
       "      <td>2022-12-31</td>\n",
       "      <td>8 SOUTH LOTTS ROAD, RINGSEND, DUBLIN 4</td>\n",
       "      <td>Dublin</td>\n",
       "      <td>287500</td>\n",
       "      <td>Leinster</td>\n",
       "      <td>2022</td>\n",
       "      <td>12</td>\n",
       "    </tr>\n",
       "    <tr>\n",
       "      <th>62306</th>\n",
       "      <td>2022-12-31</td>\n",
       "      <td>83 Astor Lawn, Abbey Forte, Kinsale</td>\n",
       "      <td>Cork</td>\n",
       "      <td>311400</td>\n",
       "      <td>Munster</td>\n",
       "      <td>2022</td>\n",
       "      <td>12</td>\n",
       "    </tr>\n",
       "    <tr>\n",
       "      <th>62307</th>\n",
       "      <td>2022-12-31</td>\n",
       "      <td>APT 22 -  PEARSE COURT, PEARSE STREET, ATHLONE</td>\n",
       "      <td>Westmeath</td>\n",
       "      <td>120000</td>\n",
       "      <td>Leinster</td>\n",
       "      <td>2022</td>\n",
       "      <td>12</td>\n",
       "    </tr>\n",
       "  </tbody>\n",
       "</table>\n",
       "<p>62308 rows × 7 columns</p>\n",
       "</div>"
      ],
      "text/plain": [
       "            Date                                         Address     County  \\\n",
       "0     2022-01-01          8 CHANDLERS GUILD, JAMESS ST, DUBLIN 8     Dublin   \n",
       "1     2022-03-01              RIVERDALE, RAHARNEY, CO. WESTMEATH  Westmeath   \n",
       "2     2022-04-01                1 BARRETTS LANE, ENNIS, CO CLARE      Clare   \n",
       "3     2022-04-01         1 DELANEY MEWS, UPPER DUBLIN HILL, CORK       Cork   \n",
       "4     2022-04-01                              104 ARDKEEN, CAVAN      Cavan   \n",
       "...          ...                                             ...        ...   \n",
       "62303 2022-12-30          PEPPARDS LANE, RATHKEALE, CO. LIMERICK   Limerick   \n",
       "62304 2022-12-31        29 Castle Park, Killycard, Castleblayney   Monaghan   \n",
       "62305 2022-12-31          8 SOUTH LOTTS ROAD, RINGSEND, DUBLIN 4     Dublin   \n",
       "62306 2022-12-31             83 Astor Lawn, Abbey Forte, Kinsale       Cork   \n",
       "62307 2022-12-31  APT 22 -  PEARSE COURT, PEARSE STREET, ATHLONE  Westmeath   \n",
       "\n",
       "        Price  Province  year  month  \n",
       "0       95000  Leinster  2022      1  \n",
       "1       75000  Leinster  2022      3  \n",
       "2      105000   Munster  2022      4  \n",
       "3      800000   Munster  2022      4  \n",
       "4      120000    Ulster  2022      4  \n",
       "...       ...       ...   ...    ...  \n",
       "62303   30000   Munster  2022     12  \n",
       "62304  233480    Ulster  2022     12  \n",
       "62305  287500  Leinster  2022     12  \n",
       "62306  311400   Munster  2022     12  \n",
       "62307  120000  Leinster  2022     12  \n",
       "\n",
       "[62308 rows x 7 columns]"
      ]
     },
     "metadata": {},
     "output_type": "display_data"
    }
   ],
   "source": [
    "#Rows/Columns and Headers\n",
    "display(houseprices2021)\n",
    "display(houseprices2022)"
   ]
  },
  {
   "cell_type": "code",
   "execution_count": 28,
   "id": "397ab607",
   "metadata": {},
   "outputs": [],
   "source": [
    "#concat the two dfs\n",
    "housepricescovid=pd.concat([houseprices2021,houseprices2022],axis=0)\n",
    "houseprivescovid=houseprices['Price'].round(0)"
   ]
  },
  {
   "cell_type": "code",
   "execution_count": 29,
   "id": "7040da55",
   "metadata": {},
   "outputs": [
    {
     "name": "stdout",
     "output_type": "stream",
     "text": [
      "Index(['Date', 'Address', 'County', 'Price', 'Province', 'year', 'month'], dtype='object')\n",
      "RangeIndex(start=0, stop=59443, step=1)\n",
      "Index(['Date', 'Address', 'County', 'Price', 'Province', 'year', 'month'], dtype='object')\n",
      "RangeIndex(start=0, stop=62308, step=1)\n"
     ]
    }
   ],
   "source": [
    "#Show the index and ranges \n",
    "print(houseprices2021.columns)\n",
    "print(houseprices2021.index)\n",
    "print(houseprices2022.columns)\n",
    "print(houseprices2022.index)"
   ]
  },
  {
   "cell_type": "code",
   "execution_count": 30,
   "id": "8bb6bcc1",
   "metadata": {},
   "outputs": [],
   "source": [
    "#Convert objects to string\n",
    "houseprices2022[(\"Province\")]=houseprices2022[(\"Province\")].astype('string')\n",
    "houseprices2021[(\"Province\")]=houseprices2021[(\"Province\")].astype('string')"
   ]
  },
  {
   "cell_type": "code",
   "execution_count": 31,
   "id": "a4e7f015",
   "metadata": {},
   "outputs": [
    {
     "name": "stdout",
     "output_type": "stream",
     "text": [
      "<class 'pandas.core.frame.DataFrame'>\n",
      "RangeIndex: 62308 entries, 0 to 62307\n",
      "Data columns (total 7 columns):\n",
      " #   Column    Non-Null Count  Dtype         \n",
      "---  ------    --------------  -----         \n",
      " 0   Date      62308 non-null  datetime64[ns]\n",
      " 1   Address   62308 non-null  object        \n",
      " 2   County    62308 non-null  object        \n",
      " 3   Price     62308 non-null  int64         \n",
      " 4   Province  62308 non-null  string        \n",
      " 5   year      62308 non-null  int64         \n",
      " 6   month     62308 non-null  int64         \n",
      "dtypes: datetime64[ns](1), int64(3), object(2), string(1)\n",
      "memory usage: 3.3+ MB\n"
     ]
    }
   ],
   "source": [
    "#Check the data and null values\n",
    "houseprices2022.info()"
   ]
  },
  {
   "cell_type": "code",
   "execution_count": 32,
   "id": "c838a44f",
   "metadata": {},
   "outputs": [
    {
     "name": "stdout",
     "output_type": "stream",
     "text": [
      "<class 'pandas.core.frame.DataFrame'>\n",
      "RangeIndex: 59443 entries, 0 to 59442\n",
      "Data columns (total 7 columns):\n",
      " #   Column    Non-Null Count  Dtype         \n",
      "---  ------    --------------  -----         \n",
      " 0   Date      59443 non-null  datetime64[ns]\n",
      " 1   Address   59443 non-null  object        \n",
      " 2   County    59443 non-null  object        \n",
      " 3   Price     59443 non-null  int64         \n",
      " 4   Province  59443 non-null  string        \n",
      " 5   year      59443 non-null  int64         \n",
      " 6   month     59443 non-null  int64         \n",
      "dtypes: datetime64[ns](1), int64(3), object(2), string(1)\n",
      "memory usage: 3.2+ MB\n"
     ]
    }
   ],
   "source": [
    "#Check the data and null values\n",
    "houseprices2021.info()"
   ]
  },
  {
   "cell_type": "code",
   "execution_count": 33,
   "id": "e07b3112",
   "metadata": {},
   "outputs": [
    {
     "name": "stdout",
     "output_type": "stream",
     "text": [
      "<class 'pandas.core.frame.DataFrame'>\n",
      "RangeIndex: 59443 entries, 0 to 59442\n",
      "Data columns (total 7 columns):\n",
      " #   Column    Non-Null Count  Dtype         \n",
      "---  ------    --------------  -----         \n",
      " 0   Date      59443 non-null  datetime64[ns]\n",
      " 1   Address   59443 non-null  object        \n",
      " 2   County    59443 non-null  object        \n",
      " 3   Price     59443 non-null  int64         \n",
      " 4   Province  59443 non-null  string        \n",
      " 5   year      59443 non-null  int64         \n",
      " 6   month     59443 non-null  int64         \n",
      "dtypes: datetime64[ns](1), int64(3), object(2), string(1)\n",
      "memory usage: 3.2+ MB\n"
     ]
    }
   ],
   "source": [
    "\n",
    "houseprices2021.info()"
   ]
  },
  {
   "cell_type": "code",
   "execution_count": 34,
   "id": "f267ff3e",
   "metadata": {},
   "outputs": [],
   "source": [
    "#Convert to objects to ssting\n",
    "houseprices2022[(\"Province\")]=houseprices2022[(\"Province\")].astype('string')"
   ]
  },
  {
   "cell_type": "code",
   "execution_count": 35,
   "id": "006bcab5",
   "metadata": {},
   "outputs": [
    {
     "data": {
      "text/html": [
       "<div>\n",
       "<style scoped>\n",
       "    .dataframe tbody tr th:only-of-type {\n",
       "        vertical-align: middle;\n",
       "    }\n",
       "\n",
       "    .dataframe tbody tr th {\n",
       "        vertical-align: top;\n",
       "    }\n",
       "\n",
       "    .dataframe thead th {\n",
       "        text-align: right;\n",
       "    }\n",
       "</style>\n",
       "<table border=\"1\" class=\"dataframe\">\n",
       "  <thead>\n",
       "    <tr style=\"text-align: right;\">\n",
       "      <th></th>\n",
       "      <th>Date</th>\n",
       "      <th>Address</th>\n",
       "      <th>County</th>\n",
       "      <th>Price</th>\n",
       "      <th>Province</th>\n",
       "      <th>year</th>\n",
       "      <th>month</th>\n",
       "    </tr>\n",
       "  </thead>\n",
       "  <tbody>\n",
       "    <tr>\n",
       "      <th>0</th>\n",
       "      <td>2022-01-01</td>\n",
       "      <td>8 CHANDLERS GUILD, JAMESS ST, DUBLIN 8</td>\n",
       "      <td>Dublin</td>\n",
       "      <td>95000</td>\n",
       "      <td>Leinster</td>\n",
       "      <td>2022</td>\n",
       "      <td>1</td>\n",
       "    </tr>\n",
       "    <tr>\n",
       "      <th>1</th>\n",
       "      <td>2022-03-01</td>\n",
       "      <td>RIVERDALE, RAHARNEY, CO. WESTMEATH</td>\n",
       "      <td>Westmeath</td>\n",
       "      <td>75000</td>\n",
       "      <td>Leinster</td>\n",
       "      <td>2022</td>\n",
       "      <td>3</td>\n",
       "    </tr>\n",
       "    <tr>\n",
       "      <th>2</th>\n",
       "      <td>2022-04-01</td>\n",
       "      <td>1 BARRETTS LANE, ENNIS, CO CLARE</td>\n",
       "      <td>Clare</td>\n",
       "      <td>105000</td>\n",
       "      <td>Munster</td>\n",
       "      <td>2022</td>\n",
       "      <td>4</td>\n",
       "    </tr>\n",
       "    <tr>\n",
       "      <th>3</th>\n",
       "      <td>2022-04-01</td>\n",
       "      <td>1 DELANEY MEWS, UPPER DUBLIN HILL, CORK</td>\n",
       "      <td>Cork</td>\n",
       "      <td>800000</td>\n",
       "      <td>Munster</td>\n",
       "      <td>2022</td>\n",
       "      <td>4</td>\n",
       "    </tr>\n",
       "    <tr>\n",
       "      <th>4</th>\n",
       "      <td>2022-04-01</td>\n",
       "      <td>104 ARDKEEN, CAVAN</td>\n",
       "      <td>Cavan</td>\n",
       "      <td>120000</td>\n",
       "      <td>Ulster</td>\n",
       "      <td>2022</td>\n",
       "      <td>4</td>\n",
       "    </tr>\n",
       "    <tr>\n",
       "      <th>...</th>\n",
       "      <td>...</td>\n",
       "      <td>...</td>\n",
       "      <td>...</td>\n",
       "      <td>...</td>\n",
       "      <td>...</td>\n",
       "      <td>...</td>\n",
       "      <td>...</td>\n",
       "    </tr>\n",
       "    <tr>\n",
       "      <th>62303</th>\n",
       "      <td>2022-12-30</td>\n",
       "      <td>PEPPARDS LANE, RATHKEALE, CO. LIMERICK</td>\n",
       "      <td>Limerick</td>\n",
       "      <td>30000</td>\n",
       "      <td>Munster</td>\n",
       "      <td>2022</td>\n",
       "      <td>12</td>\n",
       "    </tr>\n",
       "    <tr>\n",
       "      <th>62304</th>\n",
       "      <td>2022-12-31</td>\n",
       "      <td>29 Castle Park, Killycard, Castleblayney</td>\n",
       "      <td>Monaghan</td>\n",
       "      <td>233480</td>\n",
       "      <td>Ulster</td>\n",
       "      <td>2022</td>\n",
       "      <td>12</td>\n",
       "    </tr>\n",
       "    <tr>\n",
       "      <th>62305</th>\n",
       "      <td>2022-12-31</td>\n",
       "      <td>8 SOUTH LOTTS ROAD, RINGSEND, DUBLIN 4</td>\n",
       "      <td>Dublin</td>\n",
       "      <td>287500</td>\n",
       "      <td>Leinster</td>\n",
       "      <td>2022</td>\n",
       "      <td>12</td>\n",
       "    </tr>\n",
       "    <tr>\n",
       "      <th>62306</th>\n",
       "      <td>2022-12-31</td>\n",
       "      <td>83 Astor Lawn, Abbey Forte, Kinsale</td>\n",
       "      <td>Cork</td>\n",
       "      <td>311400</td>\n",
       "      <td>Munster</td>\n",
       "      <td>2022</td>\n",
       "      <td>12</td>\n",
       "    </tr>\n",
       "    <tr>\n",
       "      <th>62307</th>\n",
       "      <td>2022-12-31</td>\n",
       "      <td>APT 22 -  PEARSE COURT, PEARSE STREET, ATHLONE</td>\n",
       "      <td>Westmeath</td>\n",
       "      <td>120000</td>\n",
       "      <td>Leinster</td>\n",
       "      <td>2022</td>\n",
       "      <td>12</td>\n",
       "    </tr>\n",
       "  </tbody>\n",
       "</table>\n",
       "<p>62308 rows × 7 columns</p>\n",
       "</div>"
      ],
      "text/plain": [
       "            Date                                         Address     County  \\\n",
       "0     2022-01-01          8 CHANDLERS GUILD, JAMESS ST, DUBLIN 8     Dublin   \n",
       "1     2022-03-01              RIVERDALE, RAHARNEY, CO. WESTMEATH  Westmeath   \n",
       "2     2022-04-01                1 BARRETTS LANE, ENNIS, CO CLARE      Clare   \n",
       "3     2022-04-01         1 DELANEY MEWS, UPPER DUBLIN HILL, CORK       Cork   \n",
       "4     2022-04-01                              104 ARDKEEN, CAVAN      Cavan   \n",
       "...          ...                                             ...        ...   \n",
       "62303 2022-12-30          PEPPARDS LANE, RATHKEALE, CO. LIMERICK   Limerick   \n",
       "62304 2022-12-31        29 Castle Park, Killycard, Castleblayney   Monaghan   \n",
       "62305 2022-12-31          8 SOUTH LOTTS ROAD, RINGSEND, DUBLIN 4     Dublin   \n",
       "62306 2022-12-31             83 Astor Lawn, Abbey Forte, Kinsale       Cork   \n",
       "62307 2022-12-31  APT 22 -  PEARSE COURT, PEARSE STREET, ATHLONE  Westmeath   \n",
       "\n",
       "        Price  Province  year  month  \n",
       "0       95000  Leinster  2022      1  \n",
       "1       75000  Leinster  2022      3  \n",
       "2      105000   Munster  2022      4  \n",
       "3      800000   Munster  2022      4  \n",
       "4      120000    Ulster  2022      4  \n",
       "...       ...       ...   ...    ...  \n",
       "62303   30000   Munster  2022     12  \n",
       "62304  233480    Ulster  2022     12  \n",
       "62305  287500  Leinster  2022     12  \n",
       "62306  311400   Munster  2022     12  \n",
       "62307  120000  Leinster  2022     12  \n",
       "\n",
       "[62308 rows x 7 columns]"
      ]
     },
     "execution_count": 35,
     "metadata": {},
     "output_type": "execute_result"
    }
   ],
   "source": [
    "houseprices2022"
   ]
  },
  {
   "cell_type": "code",
   "execution_count": 36,
   "id": "1efbe169",
   "metadata": {},
   "outputs": [
    {
     "data": {
      "text/html": [
       "<div>\n",
       "<style scoped>\n",
       "    .dataframe tbody tr th:only-of-type {\n",
       "        vertical-align: middle;\n",
       "    }\n",
       "\n",
       "    .dataframe tbody tr th {\n",
       "        vertical-align: top;\n",
       "    }\n",
       "\n",
       "    .dataframe thead th {\n",
       "        text-align: right;\n",
       "    }\n",
       "</style>\n",
       "<table border=\"1\" class=\"dataframe\">\n",
       "  <thead>\n",
       "    <tr style=\"text-align: right;\">\n",
       "      <th></th>\n",
       "      <th>Date</th>\n",
       "      <th>Address</th>\n",
       "      <th>County</th>\n",
       "      <th>Price</th>\n",
       "      <th>Province</th>\n",
       "      <th>year</th>\n",
       "      <th>month</th>\n",
       "    </tr>\n",
       "  </thead>\n",
       "  <tbody>\n",
       "    <tr>\n",
       "      <th>0</th>\n",
       "      <td>2021-01-01</td>\n",
       "      <td>APT 15, SANDON COVE, CASTLE AVE DUBLIN 3</td>\n",
       "      <td>Dublin</td>\n",
       "      <td>295000</td>\n",
       "      <td>Leinster</td>\n",
       "      <td>2021</td>\n",
       "      <td>1</td>\n",
       "    </tr>\n",
       "    <tr>\n",
       "      <th>1</th>\n",
       "      <td>2021-01-01</td>\n",
       "      <td>APT 32, DANES COURT, CLONTARF RD DUBLIN 3</td>\n",
       "      <td>Dublin</td>\n",
       "      <td>310000</td>\n",
       "      <td>Leinster</td>\n",
       "      <td>2021</td>\n",
       "      <td>1</td>\n",
       "    </tr>\n",
       "    <tr>\n",
       "      <th>2</th>\n",
       "      <td>2021-03-01</td>\n",
       "      <td>16 BURLEIGH COURT, BURLINGTON ROAD, DUBLIN 4</td>\n",
       "      <td>Dublin</td>\n",
       "      <td>450000</td>\n",
       "      <td>Leinster</td>\n",
       "      <td>2021</td>\n",
       "      <td>3</td>\n",
       "    </tr>\n",
       "    <tr>\n",
       "      <th>3</th>\n",
       "      <td>2021-04-01</td>\n",
       "      <td>1 CASTLEGAL CROSS, CLIFFONEY, CO. SLIGO</td>\n",
       "      <td>Sligo</td>\n",
       "      <td>148000</td>\n",
       "      <td>Connacht</td>\n",
       "      <td>2021</td>\n",
       "      <td>4</td>\n",
       "    </tr>\n",
       "    <tr>\n",
       "      <th>4</th>\n",
       "      <td>2021-04-01</td>\n",
       "      <td>1 PLAZA  VIEW, FAIR GREEN, MALLOW</td>\n",
       "      <td>Cork</td>\n",
       "      <td>158590</td>\n",
       "      <td>Munster</td>\n",
       "      <td>2021</td>\n",
       "      <td>4</td>\n",
       "    </tr>\n",
       "    <tr>\n",
       "      <th>...</th>\n",
       "      <td>...</td>\n",
       "      <td>...</td>\n",
       "      <td>...</td>\n",
       "      <td>...</td>\n",
       "      <td>...</td>\n",
       "      <td>...</td>\n",
       "      <td>...</td>\n",
       "    </tr>\n",
       "    <tr>\n",
       "      <th>62303</th>\n",
       "      <td>2022-12-30</td>\n",
       "      <td>PEPPARDS LANE, RATHKEALE, CO. LIMERICK</td>\n",
       "      <td>Limerick</td>\n",
       "      <td>30000</td>\n",
       "      <td>Munster</td>\n",
       "      <td>2022</td>\n",
       "      <td>12</td>\n",
       "    </tr>\n",
       "    <tr>\n",
       "      <th>62304</th>\n",
       "      <td>2022-12-31</td>\n",
       "      <td>29 Castle Park, Killycard, Castleblayney</td>\n",
       "      <td>Monaghan</td>\n",
       "      <td>233480</td>\n",
       "      <td>Ulster</td>\n",
       "      <td>2022</td>\n",
       "      <td>12</td>\n",
       "    </tr>\n",
       "    <tr>\n",
       "      <th>62305</th>\n",
       "      <td>2022-12-31</td>\n",
       "      <td>8 SOUTH LOTTS ROAD, RINGSEND, DUBLIN 4</td>\n",
       "      <td>Dublin</td>\n",
       "      <td>287500</td>\n",
       "      <td>Leinster</td>\n",
       "      <td>2022</td>\n",
       "      <td>12</td>\n",
       "    </tr>\n",
       "    <tr>\n",
       "      <th>62306</th>\n",
       "      <td>2022-12-31</td>\n",
       "      <td>83 Astor Lawn, Abbey Forte, Kinsale</td>\n",
       "      <td>Cork</td>\n",
       "      <td>311400</td>\n",
       "      <td>Munster</td>\n",
       "      <td>2022</td>\n",
       "      <td>12</td>\n",
       "    </tr>\n",
       "    <tr>\n",
       "      <th>62307</th>\n",
       "      <td>2022-12-31</td>\n",
       "      <td>APT 22 -  PEARSE COURT, PEARSE STREET, ATHLONE</td>\n",
       "      <td>Westmeath</td>\n",
       "      <td>120000</td>\n",
       "      <td>Leinster</td>\n",
       "      <td>2022</td>\n",
       "      <td>12</td>\n",
       "    </tr>\n",
       "  </tbody>\n",
       "</table>\n",
       "<p>120255 rows × 7 columns</p>\n",
       "</div>"
      ],
      "text/plain": [
       "            Date                                         Address     County  \\\n",
       "0     2021-01-01        APT 15, SANDON COVE, CASTLE AVE DUBLIN 3     Dublin   \n",
       "1     2021-01-01       APT 32, DANES COURT, CLONTARF RD DUBLIN 3     Dublin   \n",
       "2     2021-03-01    16 BURLEIGH COURT, BURLINGTON ROAD, DUBLIN 4     Dublin   \n",
       "3     2021-04-01         1 CASTLEGAL CROSS, CLIFFONEY, CO. SLIGO      Sligo   \n",
       "4     2021-04-01               1 PLAZA  VIEW, FAIR GREEN, MALLOW       Cork   \n",
       "...          ...                                             ...        ...   \n",
       "62303 2022-12-30          PEPPARDS LANE, RATHKEALE, CO. LIMERICK   Limerick   \n",
       "62304 2022-12-31        29 Castle Park, Killycard, Castleblayney   Monaghan   \n",
       "62305 2022-12-31          8 SOUTH LOTTS ROAD, RINGSEND, DUBLIN 4     Dublin   \n",
       "62306 2022-12-31             83 Astor Lawn, Abbey Forte, Kinsale       Cork   \n",
       "62307 2022-12-31  APT 22 -  PEARSE COURT, PEARSE STREET, ATHLONE  Westmeath   \n",
       "\n",
       "        Price  Province  year  month  \n",
       "0      295000  Leinster  2021      1  \n",
       "1      310000  Leinster  2021      1  \n",
       "2      450000  Leinster  2021      3  \n",
       "3      148000  Connacht  2021      4  \n",
       "4      158590   Munster  2021      4  \n",
       "...       ...       ...   ...    ...  \n",
       "62303   30000   Munster  2022     12  \n",
       "62304  233480    Ulster  2022     12  \n",
       "62305  287500  Leinster  2022     12  \n",
       "62306  311400   Munster  2022     12  \n",
       "62307  120000  Leinster  2022     12  \n",
       "\n",
       "[120255 rows x 7 columns]"
      ]
     },
     "execution_count": 36,
     "metadata": {},
     "output_type": "execute_result"
    }
   ],
   "source": [
    "#Drop duplicates from df\n",
    "housepricescovid.drop_duplicates(subset=[\"Address\",\"year\"])"
   ]
  },
  {
   "cell_type": "code",
   "execution_count": 109,
   "id": "7f1662c9",
   "metadata": {},
   "outputs": [
    {
     "data": {
      "text/plain": [
       "Province  year\n",
       "Connacht  2018    176059.726897\n",
       "          2019    184819.538939\n",
       "          2020    185846.436903\n",
       "Leinster  2018    361411.127940\n",
       "          2019    378743.670821\n",
       "          2020    388714.414247\n",
       "Munster   2018    218145.694660\n",
       "          2019    220074.909663\n",
       "          2020    227010.470963\n",
       "Ulster    2018    127168.362532\n",
       "          2019    135874.542570\n",
       "          2020    150564.506971\n",
       "Name: Price, dtype: float64"
      ]
     },
     "execution_count": 109,
     "metadata": {},
     "output_type": "execute_result"
    }
   ],
   "source": [
    "#groupby two values\n",
    "houseprices.groupby([\"Province\",\"year\"])[\"Price\"].mean()"
   ]
  },
  {
   "cell_type": "code",
   "execution_count": 37,
   "id": "f03c0503",
   "metadata": {},
   "outputs": [
    {
     "data": {
      "text/html": [
       "<div>\n",
       "<style scoped>\n",
       "    .dataframe tbody tr th:only-of-type {\n",
       "        vertical-align: middle;\n",
       "    }\n",
       "\n",
       "    .dataframe tbody tr th {\n",
       "        vertical-align: top;\n",
       "    }\n",
       "\n",
       "    .dataframe thead th {\n",
       "        text-align: right;\n",
       "    }\n",
       "</style>\n",
       "<table border=\"1\" class=\"dataframe\">\n",
       "  <thead>\n",
       "    <tr style=\"text-align: right;\">\n",
       "      <th>year</th>\n",
       "      <th>2021</th>\n",
       "      <th>2022</th>\n",
       "      <th>All</th>\n",
       "    </tr>\n",
       "    <tr>\n",
       "      <th>Province</th>\n",
       "      <th></th>\n",
       "      <th></th>\n",
       "      <th></th>\n",
       "    </tr>\n",
       "  </thead>\n",
       "  <tbody>\n",
       "    <tr>\n",
       "      <th>Connacht</th>\n",
       "      <td>205459.0</td>\n",
       "      <td>237565.0</td>\n",
       "      <td>221522.0</td>\n",
       "    </tr>\n",
       "    <tr>\n",
       "      <th>Leinster</th>\n",
       "      <td>421554.0</td>\n",
       "      <td>459552.0</td>\n",
       "      <td>441176.0</td>\n",
       "    </tr>\n",
       "    <tr>\n",
       "      <th>Munster</th>\n",
       "      <td>243983.0</td>\n",
       "      <td>285204.0</td>\n",
       "      <td>264941.0</td>\n",
       "    </tr>\n",
       "    <tr>\n",
       "      <th>Ulster</th>\n",
       "      <td>163550.0</td>\n",
       "      <td>192939.0</td>\n",
       "      <td>178254.0</td>\n",
       "    </tr>\n",
       "    <tr>\n",
       "      <th>All</th>\n",
       "      <td>338376.0</td>\n",
       "      <td>378418.0</td>\n",
       "      <td>358868.0</td>\n",
       "    </tr>\n",
       "  </tbody>\n",
       "</table>\n",
       "</div>"
      ],
      "text/plain": [
       "year          2021      2022       All\n",
       "Province                              \n",
       "Connacht  205459.0  237565.0  221522.0\n",
       "Leinster  421554.0  459552.0  441176.0\n",
       "Munster   243983.0  285204.0  264941.0\n",
       "Ulster    163550.0  192939.0  178254.0\n",
       "All       338376.0  378418.0  358868.0"
      ]
     },
     "execution_count": 37,
     "metadata": {},
     "output_type": "execute_result"
    }
   ],
   "source": [
    "housepricescovid.pivot_table(values=\"Price\", index=\"Province\", columns=\"year\", \n",
    "                        fill_value=0, margins=True).round(0)"
   ]
  },
  {
   "cell_type": "code",
   "execution_count": 38,
   "id": "3c9b61c8",
   "metadata": {},
   "outputs": [
    {
     "data": {
      "text/plain": [
       "<AxesSubplot:xlabel='year', ylabel='Price'>"
      ]
     },
     "execution_count": 38,
     "metadata": {},
     "output_type": "execute_result"
    },
    {
     "data": {
      "image/png": "[encoded data removed]",
      "text/plain": [
       "<Figure size 432x288 with 1 Axes>"
      ]
     },
     "metadata": {
      "needs_background": "light"
     },
     "output_type": "display_data"
    }
   ],
   "source": [
    "sns.scatterplot(x=\"year\", \n",
    "                y=\"Price\",\n",
    "                data=housepricescovid,\n",
    "                hue=\"Province\",\n",
    "                hue_order=[\"Ulster\",\"Munster\",\"Leinster\",\"Connacht\"])"
   ]
  },
  {
   "cell_type": "code",
   "execution_count": 108,
   "id": "8eb93ed3",
   "metadata": {},
   "outputs": [
    {
     "data": {
      "image/png": "[encoded data removed]",
      "text/plain": [
       "<Figure size 432x288 with 1 Axes>"
      ]
     },
     "metadata": {
      "needs_background": "light"
     },
     "output_type": "display_data"
    }
   ],
   "source": [
    "sns.countplot(x=\"Province\",data=housepricescovid).set(title=\"Number of Properties sold 2021-2020 by Province\")\n",
    "plt.show()"
   ]
  },
  {
   "cell_type": "code",
   "execution_count": 40,
   "id": "c5546ce7",
   "metadata": {},
   "outputs": [
    {
     "data": {
      "image/png": "[encoded data removed]",
      "text/plain": [
       "<Figure size 720x360 with 2 Axes>"
      ]
     },
     "metadata": {
      "needs_background": "light"
     },
     "output_type": "display_data"
    }
   ],
   "source": [
    "sns.relplot(x=\"Province\",y=\"Price\", data=housepricescovid,kind=\"scatter\",col=\"year\")\n",
    "plt.gca().yaxis.set_major_formatter(ticker.StrMethodFormatter('{x:,.0f}'))\n",
    "plt.xticks(rotation=90)\n",
    "plt.show()"
   ]
  },
  {
   "cell_type": "code",
   "execution_count": 92,
   "id": "a26b1456",
   "metadata": {},
   "outputs": [
    {
     "data": {
      "text/plain": [
       "<seaborn.axisgrid.FacetGrid at 0x162be94ddf0>"
      ]
     },
     "execution_count": 92,
     "metadata": {},
     "output_type": "execute_result"
    },
    {
     "data": {
      "image/png": "[encoded data removed]",
      "text/plain": [
       "<Figure size 443.5x360 with 1 Axes>"
      ]
     },
     "metadata": {
      "needs_background": "light"
     },
     "output_type": "display_data"
    }
   ],
   "source": [
    "sns.relplot(x=\"year\",\n",
    "            y=\"Price\", \n",
    "            data=housepricescovid,\n",
    "            kind=\"line\",\n",
    "            style=\"Province\",\n",
    "            hue=\"Province\",\n",
    "            markers=True, ci=None).set(title=\"Price of Property per year per Province\")"
   ]
  },
  {
   "cell_type": "code",
   "execution_count": 93,
   "id": "4cb45d2a",
   "metadata": {},
   "outputs": [
    {
     "data": {
      "text/plain": [
       "<seaborn.axisgrid.FacetGrid at 0x162cd283310>"
      ]
     },
     "execution_count": 93,
     "metadata": {},
     "output_type": "execute_result"
    },
    {
     "data": {
      "image/png": "[encoded data removed]",
      "text/plain": [
       "<Figure size 360x360 with 1 Axes>"
      ]
     },
     "metadata": {
      "needs_background": "light"
     },
     "output_type": "display_data"
    }
   ],
   "source": [
    "sns.catplot(x=\"Province\",data=housepricescovid,kind=\"count\").set(title=\"Number of Property sold per Province 2021 to 2020\")"
   ]
  },
  {
   "cell_type": "code",
   "execution_count": 94,
   "id": "0cbfc568",
   "metadata": {},
   "outputs": [
    {
     "data": {
      "text/plain": [
       "<seaborn.axisgrid.FacetGrid at 0x162c551c850>"
      ]
     },
     "execution_count": 94,
     "metadata": {},
     "output_type": "execute_result"
    },
    {
     "data": {
      "image/png": "[encoded data removed]",
      "text/plain": [
       "<Figure size 360x360 with 1 Axes>"
      ]
     },
     "metadata": {
      "needs_background": "light"
     },
     "output_type": "display_data"
    }
   ],
   "source": [
    "sns.catplot(x=\"year\",data=housepricescovid,kind=\"count\").set(title=\"Number of Properties Sold 2021 to 2022\")"
   ]
  },
  {
   "cell_type": "code",
   "execution_count": 63,
   "id": "af0aed11",
   "metadata": {},
   "outputs": [],
   "source": [
    "houseprices2=pd.concat([houseprices,housepricescovid],axis=0)"
   ]
  },
  {
   "cell_type": "code",
   "execution_count": 46,
   "id": "c8cc552f",
   "metadata": {},
   "outputs": [
    {
     "data": {
      "text/plain": [
       "<bound method DataFrame.info of              Date                                       Address     County  \\\n",
       "0      2021-01-01      APT 15, SANDON COVE, CASTLE AVE DUBLIN 3     Dublin   \n",
       "1      2021-01-01     APT 32, DANES COURT, CLONTARF RD DUBLIN 3     Dublin   \n",
       "2      2021-03-01  16 BURLEIGH COURT, BURLINGTON ROAD, DUBLIN 4     Dublin   \n",
       "3      2021-04-01       1 CASTLEGAL CROSS, CLIFFONEY, CO. SLIGO      Sligo   \n",
       "4      2021-04-01             1 PLAZA  VIEW, FAIR GREEN, MALLOW       Cork   \n",
       "...           ...                                           ...        ...   \n",
       "165049 2020-12-31               25 TOWER VIEW, BALLINROBE, MAYO       Mayo   \n",
       "165050 2020-12-31            54 STONEBRIDGE, RATOATH, CO. MEATH      Meath   \n",
       "165051 2020-12-31                OAKVALE HOUSE, APT, BARRACK ST  Roscommon   \n",
       "165052 2020-12-31         21 MARLFIELD, ENNISCORTHY, CO WEXFORD    Wexford   \n",
       "165053 2020-12-31                  PIPPIN, WYNDHAM AVENUE, BRAY    Wicklow   \n",
       "\n",
       "           Price  Province  year  month  \n",
       "0       295000.0  Leinster  2021      1  \n",
       "1       310000.0  Leinster  2021      1  \n",
       "2       450000.0  Leinster  2021      3  \n",
       "3       148000.0  Connacht  2021      4  \n",
       "4       158590.0   Munster  2021      4  \n",
       "...          ...       ...   ...    ...  \n",
       "165049  145000.0  Connacht  2020     12  \n",
       "165050  367000.0  Leinster  2020     12  \n",
       "165051   30000.0  Connacht  2020     12  \n",
       "165052  120000.0  Leinster  2020     12  \n",
       "165053  497500.0  Leinster  2020     12  \n",
       "\n",
       "[286805 rows x 7 columns]>"
      ]
     },
     "execution_count": 46,
     "metadata": {},
     "output_type": "execute_result"
    }
   ],
   "source": [
    "houseprices2.info"
   ]
  },
  {
   "cell_type": "code",
   "execution_count": 64,
   "id": "6961f734",
   "metadata": {},
   "outputs": [
    {
     "data": {
      "text/html": [
       "<div>\n",
       "<style scoped>\n",
       "    .dataframe tbody tr th:only-of-type {\n",
       "        vertical-align: middle;\n",
       "    }\n",
       "\n",
       "    .dataframe tbody tr th {\n",
       "        vertical-align: top;\n",
       "    }\n",
       "\n",
       "    .dataframe thead th {\n",
       "        text-align: right;\n",
       "    }\n",
       "</style>\n",
       "<table border=\"1\" class=\"dataframe\">\n",
       "  <thead>\n",
       "    <tr style=\"text-align: right;\">\n",
       "      <th></th>\n",
       "      <th>Date</th>\n",
       "      <th>Price</th>\n",
       "      <th>Address</th>\n",
       "      <th>County</th>\n",
       "      <th>Province</th>\n",
       "      <th>year</th>\n",
       "      <th>month</th>\n",
       "    </tr>\n",
       "  </thead>\n",
       "  <tbody>\n",
       "    <tr>\n",
       "      <th>0</th>\n",
       "      <td>2018-02-01</td>\n",
       "      <td>115000.0</td>\n",
       "      <td>239 BLARNEY ST, CORK, CORK</td>\n",
       "      <td>Cork</td>\n",
       "      <td>Munster</td>\n",
       "      <td>2018</td>\n",
       "      <td>2</td>\n",
       "    </tr>\n",
       "    <tr>\n",
       "      <th>1</th>\n",
       "      <td>2018-02-01</td>\n",
       "      <td>361233.0</td>\n",
       "      <td>3 CCOLROE COURT, BALLINCOLLIG</td>\n",
       "      <td>Cork</td>\n",
       "      <td>Munster</td>\n",
       "      <td>2018</td>\n",
       "      <td>2</td>\n",
       "    </tr>\n",
       "    <tr>\n",
       "      <th>2</th>\n",
       "      <td>2018-02-01</td>\n",
       "      <td>365000.0</td>\n",
       "      <td>38 THE CRESCENT, CASTLE ROCK, BANESHANE</td>\n",
       "      <td>Cork</td>\n",
       "      <td>Munster</td>\n",
       "      <td>2018</td>\n",
       "      <td>2</td>\n",
       "    </tr>\n",
       "    <tr>\n",
       "      <th>3</th>\n",
       "      <td>2018-02-01</td>\n",
       "      <td>230000.0</td>\n",
       "      <td>4 LIOS NA GREINE, SOUTH DOUGLAS RD, CORK</td>\n",
       "      <td>Cork</td>\n",
       "      <td>Munster</td>\n",
       "      <td>2018</td>\n",
       "      <td>2</td>\n",
       "    </tr>\n",
       "    <tr>\n",
       "      <th>4</th>\n",
       "      <td>2018-02-01</td>\n",
       "      <td>228000.0</td>\n",
       "      <td>NO 6 THE COURTYARD, FOTA ISLAND, CARRIGETWOHIL</td>\n",
       "      <td>Cork</td>\n",
       "      <td>Munster</td>\n",
       "      <td>2018</td>\n",
       "      <td>2</td>\n",
       "    </tr>\n",
       "  </tbody>\n",
       "</table>\n",
       "</div>"
      ],
      "text/plain": [
       "        Date     Price                                         Address County  \\\n",
       "0 2018-02-01  115000.0                      239 BLARNEY ST, CORK, CORK   Cork   \n",
       "1 2018-02-01  361233.0                   3 CCOLROE COURT, BALLINCOLLIG   Cork   \n",
       "2 2018-02-01  365000.0         38 THE CRESCENT, CASTLE ROCK, BANESHANE   Cork   \n",
       "3 2018-02-01  230000.0        4 LIOS NA GREINE, SOUTH DOUGLAS RD, CORK   Cork   \n",
       "4 2018-02-01  228000.0  NO 6 THE COURTYARD, FOTA ISLAND, CARRIGETWOHIL   Cork   \n",
       "\n",
       "  Province  year  month  \n",
       "0  Munster  2018      2  \n",
       "1  Munster  2018      2  \n",
       "2  Munster  2018      2  \n",
       "3  Munster  2018      2  \n",
       "4  Munster  2018      2  "
      ]
     },
     "execution_count": 64,
     "metadata": {},
     "output_type": "execute_result"
    }
   ],
   "source": [
    "houseprices2.head()"
   ]
  },
  {
   "cell_type": "code",
   "execution_count": 95,
   "id": "050edba9",
   "metadata": {},
   "outputs": [
    {
     "data": {
      "text/plain": [
       "(array([2017.5, 2018. , 2018.5, 2019. , 2019.5, 2020. , 2020.5, 2021. ,\n",
       "        2021.5, 2022. , 2022.5]),\n",
       " [Text(0, 0, ''),\n",
       "  Text(0, 0, ''),\n",
       "  Text(0, 0, ''),\n",
       "  Text(0, 0, ''),\n",
       "  Text(0, 0, ''),\n",
       "  Text(0, 0, ''),\n",
       "  Text(0, 0, ''),\n",
       "  Text(0, 0, ''),\n",
       "  Text(0, 0, ''),\n",
       "  Text(0, 0, ''),\n",
       "  Text(0, 0, '')])"
      ]
     },
     "execution_count": 95,
     "metadata": {},
     "output_type": "execute_result"
    },
    {
     "data": {
      "image/png": "[encoded data removed]",
      "text/plain": [
       "<Figure size 432x288 with 1 Axes>"
      ]
     },
     "metadata": {
      "needs_background": "light"
     },
     "output_type": "display_data"
    }
   ],
   "source": [
    "sns.lineplot(x = \"year\", y = \"Price\",\n",
    "             data = houseprices2,\n",
    "             ci=None).set(title=\"Property Prices from 2018 to 2022\")\n",
    "  \n",
    "plt.xticks(rotation = 25)"
   ]
  },
  {
   "cell_type": "code",
   "execution_count": 103,
   "id": "903f9fe9",
   "metadata": {},
   "outputs": [
    {
     "data": {
      "text/plain": [
       "(array([2017.5, 2018. , 2018.5, 2019. , 2019.5, 2020. , 2020.5, 2021. ,\n",
       "        2021.5, 2022. , 2022.5]),\n",
       " [Text(2017.5, 0, '2017.5'),\n",
       "  Text(2018.0, 0, '2018.0'),\n",
       "  Text(2018.5, 0, '2018.5'),\n",
       "  Text(2019.0, 0, '2019.0'),\n",
       "  Text(2019.5, 0, '2019.5'),\n",
       "  Text(2020.0, 0, '2020.0'),\n",
       "  Text(2020.5, 0, '2020.5'),\n",
       "  Text(2021.0, 0, '2021.0'),\n",
       "  Text(2021.5, 0, '2021.5'),\n",
       "  Text(2022.0, 0, '2022.0'),\n",
       "  Text(2022.5, 0, '2022.5')])"
      ]
     },
     "execution_count": 103,
     "metadata": {},
     "output_type": "execute_result"
    },
    {
     "data": {
      "image/png": "[encoded data removed]",
      "text/plain": [
       "<Figure size 443.5x360 with 1 Axes>"
      ]
     },
     "metadata": {
      "needs_background": "light"
     },
     "output_type": "display_data"
    }
   ],
   "source": [
    "sns.relplot(x=\"year\",y=\"Price\", \n",
    "            data=houseprices2,\n",
    "            kind=\"line\",\n",
    "            style=\"Province\",\n",
    "            hue=\"Province\",\n",
    "            markers=True,\n",
    "            dashes=False,\n",
    "            ci=None).set(title='Property Prices per year per Province')\n",
    "plt.xticks(rotation=25)"
   ]
  },
  {
   "cell_type": "code",
   "execution_count": 99,
   "id": "e178fe00",
   "metadata": {},
   "outputs": [
    {
     "data": {
      "text/plain": [
       "<seaborn.axisgrid.FacetGrid at 0x162c348f190>"
      ]
     },
     "execution_count": 99,
     "metadata": {},
     "output_type": "execute_result"
    },
    {
     "data": {
      "image/png": "[encoded data removed]",
      "text/plain": [
       "<Figure size 360x360 with 1 Axes>"
      ]
     },
     "metadata": {
      "needs_background": "light"
     },
     "output_type": "display_data"
    }
   ],
   "source": [
    "sns.catplot(x=\"year\",data=houseprices2,kind=\"count\").set(title=\"Number of Properties Sold 2018 to 2022\")"
   ]
  },
  {
   "cell_type": "code",
   "execution_count": 104,
   "id": "efb58add",
   "metadata": {},
   "outputs": [
    {
     "data": {
      "text/plain": [
       "<seaborn.axisgrid.FacetGrid at 0x162cac62250>"
      ]
     },
     "execution_count": 104,
     "metadata": {},
     "output_type": "execute_result"
    },
    {
     "data": {
      "image/png": "[encoded data removed]",
      "text/plain": [
       "<Figure size 360x360 with 1 Axes>"
      ]
     },
     "metadata": {
      "needs_background": "light"
     },
     "output_type": "display_data"
    }
   ],
   "source": [
    "sns.catplot(x=\"Province\",data=houseprices2,kind=\"count\").set(title=\"Number of Property sold per Province 2018 to 2022\")"
   ]
  },
  {
   "cell_type": "code",
   "execution_count": 107,
   "id": "1e99a570",
   "metadata": {},
   "outputs": [
    {
     "data": {
      "text/plain": [
       "<function matplotlib.pyplot.show(close=None, block=None)>"
      ]
     },
     "execution_count": 107,
     "metadata": {},
     "output_type": "execute_result"
    },
    {
     "data": {
      "image/png": "[encoded data removed]",
      "text/plain": [
       "<Figure size 360x360 with 1 Axes>"
      ]
     },
     "metadata": {
      "needs_background": "light"
     },
     "output_type": "display_data"
    }
   ],
   "source": [
    "sns.lmplot(x='year',y='Price',data=houseprices2)\n",
    "plt.xlabel('Year')\n",
    "plt.ylabel('Price')\n",
    "plt.show"
   ]
  },
  {
   "cell_type": "code",
   "execution_count": null,
   "id": "8bbce79d",
   "metadata": {},
   "outputs": [],
   "source": []
  }
 ],
 "metadata": {
  "kernelspec": {
   "display_name": "Python 3",
   "language": "python",
   "name": "python3"
  },
  "language_info": {
   "codemirror_mode": {
    "name": "ipython",
    "version": 3
   },
   "file_extension": ".py",
   "mimetype": "text/x-python",
   "name": "python",
   "nbconvert_exporter": "python",
   "pygments_lexer": "ipython3",
   "version": "3.8.8"
  }
 },
 "nbformat": 4,
 "nbformat_minor": 5
}
